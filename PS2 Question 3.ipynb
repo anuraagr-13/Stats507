{
 "cells": [
  {
   "cell_type": "code",
   "execution_count": 1,
   "id": "d23583b0",
   "metadata": {},
   "outputs": [],
   "source": [
    "import numpy as np\n",
    "import pandas as pd\n",
    "import fastparquet\n",
    "from collections import defaultdict\n",
    "from timeit import Timer\n",
    "import time\n",
    "from IPython.core.display import HTML,display\n",
    "#------------------------------------------------------------------------------"
   ]
  },
  {
   "cell_type": "markdown",
   "id": "3d007608",
   "metadata": {},
   "source": [
    "# Question 3 - NHANES Data\n",
    "\n",
    "### a. Appending Nhanes Demographic Data\n",
    "\n",
    "The four cohorts are:\n",
    "- **Baby Boomers**: Born 1946 - 1964\n",
    "- **Generation X**: Born 1965-1976\n",
    "- **Millenials or Generation Y**: Born 1977-1995\n",
    "- **Gen Z**: Born 1996 and after\n",
    "\n",
    "**Meaning of variables:**  \n",
    "\n",
    "**SEQN**: Respondent sequence number  \n",
    "**RIDAGEYR**: Age in years of the participant at the time of screening  \n",
    "**RIDRETH3**: Recode of reported race   \n",
    "**RIAGENDR**: Gender  \n",
    "**DMDEDUC2**: Education  \n",
    "**DMDMARTL**: Marital Status  \n",
    "**RIDSTATR**: Interview and examination status of the participant  \n",
    "**SDMVPSU**: Masked variance unit pseudo-PSU variable for variance estimation  \n",
    "**SDMVSTRA**: Masked variance unit pseudo-stratum variable for variance estimation  \n",
    "**WTMEC2YR**: Full sample 2 year MEC exam weight  \n",
    "**WTINT2YR**: Full sample 2 year interview weight"
   ]
  },
  {
   "cell_type": "code",
   "execution_count": 2,
   "id": "862c3b3b",
   "metadata": {},
   "outputs": [],
   "source": [
    "# Defining the SAS files to combine\n",
    "nhanes = ['DEMO_G.XPT',\n",
    "          'DEMO_H.XPT',\n",
    "          'DEMO_I.XPT',\n",
    "          'DEMO_J.XPT']\n",
    "\n",
    "oral_dent = ['OHXDEN_G.XPT',\n",
    "             'OHXDEN_H.XPT',\n",
    "             'OHXDEN_I.XPT',\n",
    "             'OHXDEN_J.XPT']"
   ]
  },
  {
   "cell_type": "code",
   "execution_count": 3,
   "id": "2b06c6f7",
   "metadata": {},
   "outputs": [],
   "source": [
    "def year_def(demo_dent):\n",
    "    \"\"\"\n",
    "    Defining the year based on database\n",
    "    \n",
    "    Parameters\n",
    "    ----------\n",
    "    demo_dent : list\n",
    "    Gives the locations of the demographic data SAS files\n",
    "\n",
    "    Returns\n",
    "    -------\n",
    "    year: int\n",
    "    Gives out the year of the dataset\n",
    "    \"\"\"\n",
    "    \n",
    "    if('G' in demo_dent):\n",
    "        year = 2011\n",
    "    elif('H' in demo_dent):\n",
    "        year = 2013\n",
    "    elif('I' in demo_dent):\n",
    "        year = 2015\n",
    "    elif('J' in demo_dent):\n",
    "        year = 2017\n",
    "    return year  "
   ]
  },
  {
   "cell_type": "code",
   "execution_count": 4,
   "id": "1cc80b27",
   "metadata": {},
   "outputs": [],
   "source": [
    "def cohort_def(age,data):\n",
    "    \"\"\"\n",
    "    Defined to cohort based on age \n",
    "    \n",
    "    Parameters\n",
    "    ----------\n",
    "    age : The RIDAGEYR variables\n",
    "    The age variables for unique SEQN\n",
    "    \n",
    "    demo_dent: list\n",
    "    Gives the locations of the demographic data SAS files\n",
    "\n",
    "    Returns\n",
    "    -------\n",
    "    check: string\n",
    "    Returns the cohort based on year\n",
    "    \"\"\"\n",
    "    \n",
    "    year=year_def(data)\n",
    "    if(age <= (year - 1996)):\n",
    "        return \"Gen Z\"\n",
    "    elif(age <= (year - 1977) and age > (year - 1995)):\n",
    "        return \"Gen Y\"\n",
    "    elif(age <= (year - 1965) and age > (year - 1976)):\n",
    "        return \"Gen X\"\n",
    "    else:\n",
    "        return \"Baby Boomer\""
   ]
  },
  {
   "cell_type": "code",
   "execution_count": 5,
   "id": "11b9961d",
   "metadata": {},
   "outputs": [],
   "source": [
    "#Dictionaries fo the categorical variables for Demographic dataset\n",
    "ridreth3 = {1 : 'mexican', 2 : 'other hispanic', \n",
    "            3 : 'non-hispanic White', 4 : 'non-hispanic black',\n",
    "            6 : 'non-hispanic Asian', 7 : 'other race'}\n",
    "\n",
    "ridstatr = {1 : 'interviewed only', 2: 'both'}\n",
    "\n",
    "dmdecu2 ={1 : 'less than 9th', 2 : '9 to 11', 3:'hs graduate',\n",
    "          4 : 'college', 5 : 'college graduate', 7 : 'refused',\n",
    "          9 : 'dont know'}\n",
    " \n",
    "dmdmartl = {1 : 'married', 2 : 'widowed', 3 : 'divorced',\n",
    "            4 : 'separated', 5 : 'never married',\n",
    "            6: 'living with partner', 77 : 'refused',\n",
    "            99 : 'dont know'}\n",
    "riagendr = {1 : 'male', 2: 'female'}"
   ]
  },
  {
   "cell_type": "code",
   "execution_count": 6,
   "id": "123ac3da",
   "metadata": {},
   "outputs": [],
   "source": [
    "# Combining NHANES Demographic data from different years\n",
    "def initial_data(nhanes_link):\n",
    "    \"\"\"\n",
    "    Cleaning and Combining NHANES Demographic DataFrame \n",
    "    \n",
    "    Parameters\n",
    "    ----------\n",
    "    nhanes_link : list\n",
    "    Specifies the location for the demographic dataset(different years)\n",
    "\n",
    "    Returns\n",
    "    -------\n",
    "    nhanes_data: Pandas Dataframe\n",
    "    Gives the combined Dataframe as output\n",
    "    \n",
    "    \"\"\"\n",
    "\n",
    "    nhanes_data = pd.DataFrame()\n",
    "    for i in range(len(nhanes_link)):\n",
    "        data = pd.read_sas(nhanes_link[i])\n",
    "        data = data.loc[:,['SEQN', 'RIDAGEYR', 'RIAGENDR','RIDRETH3',\n",
    "          'DMDEDUC2', 'DMDMARTL', 'RIDSTATR',\n",
    "          'SDMVPSU', 'SDMVSTRA', 'WTMEC2YR', 'WTINT2YR']]\n",
    "        #Adding the cohort column\n",
    "        data['cohort'] = data['RIDAGEYR'].apply(cohort_def, data=nhanes_link[i])\n",
    "        nhanes_data = nhanes_data.append(data)\n",
    "    \n",
    "    # Correcting the type of the different columns in the table\n",
    "    for i in nhanes_data.columns:\n",
    "        if(i == 'RIDAGEYR' or i == 'SDMVPSU' or i == 'SDMVSTRA'):\n",
    "            nhanes_data[i] = nhanes_data[i].astype('int64')\n",
    "        elif(i == 'RIDRETH3'):\n",
    "            nhanes_data[i] = pd.Categorical(nhanes_data[i].replace(ridreth3))\n",
    "        elif(i == 'RIAGENDR'):\n",
    "            nhanes_data[i] = pd.Categorical(nhanes_data[i].replace(riagendr))\n",
    "        elif(i == 'RIDSTATR'):\n",
    "            nhanes_data[i] = pd.Categorical(nhanes_data[i].replace(ridstatr))\n",
    "        elif(i == 'DMDEDUC2'):\n",
    "            nhanes_data[i] = pd.Categorical(nhanes_data[i].replace(dmdecu2))\n",
    "        elif(i == 'DMDMARTL'):\n",
    "            nhanes_data[i] = pd.Categorical(nhanes_data[i].replace(dmdmartl))\n",
    "        elif(i == 'cohort'):\n",
    "            nhanes_data[i] = nhanes_data[i].astype('category')\n",
    "        elif(i == 'WTMEC2YR' or i == 'WTINT2YR'):\n",
    "            nhanes_data[i] = nhanes_data[i].astype('float64')\n",
    "            \n",
    "    nhanes_data = nhanes_data.rename(columns=\n",
    "                                     {'RIDAGEYR':'age', \n",
    "                                      'RIDRETH3':'race',\n",
    "                                      'RIAGENDR': 'gender',\n",
    "                                      'DMDEDUC2':'education_level',\n",
    "                                      'DMDMARTL':'marital', \n",
    "                                      'RIDSTATR':'interview_status',\n",
    "                                      'SDMVPSU':'psuedo_PSU_var', \n",
    "                                      'SDMVSTRA':'psuedo_stratum_var', \n",
    "                                      'WTMEC2YR':'sample_weight_MEC', \n",
    "                                      'WTINT2YR':'sample_weight_int'})\n",
    "        \n",
    "    # Tidying and making the dataset clearer to read\n",
    "    nhanes_data = nhanes_data.set_index('SEQN')\n",
    "    return nhanes_data"
   ]
  },
  {
   "cell_type": "code",
   "execution_count": 7,
   "id": "943d42d8",
   "metadata": {},
   "outputs": [],
   "source": [
    "nhanes_data = initial_data(nhanes)"
   ]
  },
  {
   "cell_type": "code",
   "execution_count": 8,
   "id": "a701464c",
   "metadata": {},
   "outputs": [
    {
     "name": "stdout",
     "output_type": "stream",
     "text": [
      "age                      int64\n",
      "gender                category\n",
      "race                  category\n",
      "education_level       category\n",
      "marital               category\n",
      "interview_status      category\n",
      "psuedo_PSU_var           int64\n",
      "psuedo_stratum_var       int64\n",
      "sample_weight_MEC      float64\n",
      "sample_weight_int      float64\n",
      "cohort                category\n",
      "dtype: object\n"
     ]
    }
   ],
   "source": [
    "print(nhanes_data.dtypes)"
   ]
  },
  {
   "cell_type": "code",
   "execution_count": 9,
   "id": "4ce6f222",
   "metadata": {},
   "outputs": [],
   "source": [
    "#Converting the nhanes_data to 'parquet' format\n",
    "nhanes_data.to_parquet('Nhanes Data.parquet')"
   ]
  },
  {
   "cell_type": "markdown",
   "id": "9a3b34d1",
   "metadata": {},
   "source": [
    "### b. Appending Oral and Dentition Data\n",
    "\n",
    "**Meaning of variables:**  \n",
    "\n",
    "**SEQN**: Respondent sequence number  \n",
    "**OHDDESTS**: Dentition Status  \n",
    "**Tooth counts (OHXxxTC)**: The Tooth Counts for each tooth (1-32)  \n",
    "**Coronal cavities (OHXxxCTC)**:The Cavity Counts for each tooth (1-31)"
   ]
  },
  {
   "cell_type": "code",
   "execution_count": 10,
   "id": "fdd3757d",
   "metadata": {},
   "outputs": [
    {
     "name": "stderr",
     "output_type": "stream",
     "text": [
      "/Users/anuraagramesh/opt/miniconda3/envs/stats507/lib/python3.9/site-packages/pandas/io/sas/sas_xport.py:475: PerformanceWarning: DataFrame is highly fragmented.  This is usually the result of calling `frame.insert` many times, which has poor performance.  Consider joining all columns at once using pd.concat(axis=1) instead.  To get a de-fragmented frame, use `newframe = frame.copy()`\n",
      "  df[x] = v\n"
     ]
    }
   ],
   "source": [
    "# Taking out the columns for slicing\n",
    "oral_rows = []\n",
    "data = pd.read_sas(oral_dent[0])\n",
    "for i in data.columns[0:64]:\n",
    "    if(i == 'OHXIMP' or i == 'OHDEXSTS'):\n",
    "        pass\n",
    "    else:\n",
    "        oral_rows.append(i)"
   ]
  },
  {
   "cell_type": "code",
   "execution_count": 11,
   "id": "3a05d54f",
   "metadata": {},
   "outputs": [],
   "source": [
    "#Dictionaries fo the categorical variables for Demographic dataset\n",
    "tc = {1 : 'primary tooth',\n",
    "      2 : 'permanent tooth',\n",
    "      3 : 'dental implant',\n",
    "      4 : 'not present',\n",
    "      5 : 'root',\n",
    "      9 : 'could not assess'}\n",
    "\n",
    "# r = restorative\n",
    "ctc = {'A' : 'restored primary tooth',\n",
    "       'D' : 'sound primary tooth',\n",
    "       'E' : 'missing - dental disease',\n",
    "       'F' : 'restored permanent tooth',\n",
    "       'J' : 'ppermanent root tip',\n",
    "       'K' : 'primary tooth - surface condition',\n",
    "       'M' : 'missing - other causes',\n",
    "       'P' : 'disease - r',\n",
    "       'Q' : 'other causes - r',\n",
    "       'R' : 'other causes - fr',\n",
    "       'S' : 'sound permanent tooth',\n",
    "       'T' : 'permanent root - r',\n",
    "       'U' : 'unerupted',\n",
    "       'X' : 'other causes - f',\n",
    "       'Y' : 'not assessed',\n",
    "       'Z' : 'permanent tooth - surface condition'}\n",
    "\n",
    "oddests={1 : 'complete',\n",
    "         2 : 'partial',\n",
    "         3 : 'not done'}"
   ]
  },
  {
   "cell_type": "code",
   "execution_count": 12,
   "id": "88a09eb8",
   "metadata": {},
   "outputs": [],
   "source": [
    "# Combining Oral and Dentition data from different years\n",
    "def initial_data_oral(oral_link):\n",
    "    \"\"\"\n",
    "    Cleaning and Combining NHANES Oral and Dentition DataFrame \n",
    "    \n",
    "    Parameters\n",
    "    ----------\n",
    "    oral_link : list\n",
    "    Specifies the location for the nhanes dataset(Different years)\n",
    "\n",
    "    Returns\n",
    "    -------\n",
    "    oral_data: Pandas Dataframe\n",
    "    Gives the combined Dataframe as output\n",
    "    \n",
    "    \"\"\"\n",
    "    \n",
    "    oral_data = pd.DataFrame()\n",
    "    for i in range(len(oral_link)):\n",
    "        data = pd.read_sas(oral_link[i])\n",
    "        data = data.loc[:, oral_rows]\n",
    "        oral_data = oral_data.append(data)\n",
    "    # Tidying and making the dataset clearer to read\n",
    "    # Correcting the type of the different columns in the table\n",
    "    for i in oral_rows:\n",
    "        if('CTC' in i):\n",
    "            oral_data[i] = oral_data[i].str.decode('utf-8') \n",
    "            oral_data[i] = pd.Categorical(oral_data[i].replace(ctc))\n",
    "            oral_data = oral_data.rename(columns={i:'coronial_' + i[3:5]})\n",
    "        elif('TC' in i):\n",
    "            oral_data[i] = pd.Categorical(oral_data[i].replace(tc))\n",
    "            oral_data = oral_data.rename(columns={i:'tooth_count_' + i[3:5]})\n",
    "        elif(i == 'OHDDESTS'):\n",
    "            oral_data[i] = pd.Categorical(oral_data[i].replace(oddests))\n",
    "            oral_data = oral_data.rename(columns={i:'dentition_status'})\n",
    "    oral_data = oral_data.set_index('SEQN')\n",
    "    return oral_data"
   ]
  },
  {
   "cell_type": "code",
   "execution_count": 13,
   "id": "001e965f",
   "metadata": {},
   "outputs": [],
   "source": [
    "oral_data = initial_data_oral(oral_dent)"
   ]
  },
  {
   "cell_type": "code",
   "execution_count": 14,
   "id": "4c4a0bb8",
   "metadata": {},
   "outputs": [
    {
     "name": "stdout",
     "output_type": "stream",
     "text": [
      "dentition_status    category\n",
      "tooth_count_01      category\n",
      "tooth_count_02      category\n",
      "tooth_count_03      category\n",
      "tooth_count_04      category\n",
      "                      ...   \n",
      "coronial_27         category\n",
      "coronial_28         category\n",
      "coronial_29         category\n",
      "coronial_30         category\n",
      "coronial_31         category\n",
      "Length: 61, dtype: object\n"
     ]
    }
   ],
   "source": [
    "print(oral_data.dtypes)"
   ]
  },
  {
   "cell_type": "code",
   "execution_count": 15,
   "id": "b6491048",
   "metadata": {},
   "outputs": [],
   "source": [
    "#Converting the data to 'parquet' format\n",
    "oral_data.to_parquet('Oral Data.parquet')"
   ]
  },
  {
   "cell_type": "markdown",
   "id": "6c4bd4f6",
   "metadata": {},
   "source": [
    "Both the datasets are saved in **parquet** format:  \n",
    "- Nhanes Data: 'Nhanes Data.parquet'\n",
    "- Oral Data: 'Oral Data.parquet'\n",
    "\n",
    "### c. "
   ]
  },
  {
   "cell_type": "code",
   "execution_count": 16,
   "id": "80882b4f",
   "metadata": {},
   "outputs": [
    {
     "name": "stdout",
     "output_type": "stream",
     "text": [
      "Number of cases in NHANES data: 39156\n",
      "Number of cases in NHANES data: 35909\n"
     ]
    }
   ],
   "source": [
    "# Read NHANES data from parquet\n",
    "nhanes_data1 = pd.read_parquet('Nhanes Data.parquet')\n",
    "# Length of Nhanes dataset\n",
    "print('Number of cases in NHANES data:', len(nhanes_data1))\n",
    "\n",
    "# Read Oral Dentition data from parquet\n",
    "oral_data1 = pd.read_parquet('Oral Data.parquet')\n",
    "# Length of Oral Dentition dataset\n",
    "print('Number of cases in NHANES data:', len(oral_data1))"
   ]
  }
 ],
 "metadata": {
  "kernelspec": {
   "display_name": "Python 3 (ipykernel)",
   "language": "python",
   "name": "python3"
  },
  "language_info": {
   "codemirror_mode": {
    "name": "ipython",
    "version": 3
   },
   "file_extension": ".py",
   "mimetype": "text/x-python",
   "name": "python",
   "nbconvert_exporter": "python",
   "pygments_lexer": "ipython3",
   "version": "3.9.7"
  }
 },
 "nbformat": 4,
 "nbformat_minor": 5
}
