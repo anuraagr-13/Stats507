{
 "cells": [
  {
   "cell_type": "markdown",
   "id": "87ae267c",
   "metadata": {},
   "source": [
    "## Topics in Pandas\n",
    "**Stats 507, Fall 2021** \n",
    "\n",
    "**Group 0**\n",
    "  "
   ]
  },
  {
   "cell_type": "code",
   "execution_count": null,
   "id": "521ed52f",
   "metadata": {},
   "outputs": [],
   "source": [
    "import pandas as pd\n",
    "import numpy as np"
   ]
  },
  {
   "cell_type": "markdown",
   "id": "61bf8f88",
   "metadata": {},
   "source": [
    "## Contents\n",
    "Add a bullet for each topic and link to the level 2 title header using \n",
    "the exact title with spaces replaced by a dash. \n",
    "\n",
    "+ [Pivot tables](#Pivot-tables)\n",
    "+ [One row to many](#One-row-to-many)\n",
    "+ [DataFrame.pct_change()](#DataFrame.pct_change()) \n",
    "+ [Working with missing data](#Working-with-missing-data)\n",
    "+ [Cumulative sums](#Title:-pandas.DataFrame.cumsum)\n",
    "+ [Stack and unstack](#Stack-and-unstack)\n",
    "+ [Pandas Query](#Pandas-Query) \n",
    "+ [Time Series](#Time-Series) \n",
    "+ [Window Functions](#Window-Functions) \n",
    "+ [Processing Time Data](#Processing-Time-Data)\n",
    "+ [Pandas Time Series Analysis](#Title:-Pandas-Time-Series-Analysis)\n",
    "+ [Pivot Table in pandas](#Pivot-Table-in-pandas)\n",
    "+ [Multi-indexing](#Multi-indexing)\n",
    "+ [Missing Data in Pandas](#Missing-Data-in-pandas)"
   ]
  },
  {
   "cell_type": "markdown",
   "id": "e48390fc",
   "metadata": {},
   "source": [
    "## Pivot tables\n",
    "Zeyuan Li\n",
    "zeyuanli@umich.edu\n",
    "10/19/2021\n",
    "\n"
   ]
  },
  {
   "cell_type": "markdown",
   "id": "8cdae082",
   "metadata": {},
   "source": [
    "## Pivot tables in pandas\n",
    "\n",
    "The pivot tables in Excel is very powerful and convienent in handling with numeric data. Pandas also provides ```pivot_table()``` for pivoting with aggregation of numeric data. There are 5 main arguments of ```pivot_table()```:\n",
    "* ***data***: a DataFrame object\n",
    "* ***values***: a column or a list of columns to aggregate.\n",
    "* ***index***: Keys to group by on the pivot table index. \n",
    "* ***columns***:  Keys to group by on the pivot table column. \n",
    "* ***aggfunc***: function to use for aggregation, defaulting to ```numpy.mean```."
   ]
  },
  {
   "cell_type": "markdown",
   "id": "198c8273",
   "metadata": {},
   "source": [
    "### Example"
   ]
  },
  {
   "cell_type": "code",
   "execution_count": null,
   "id": "654f11f4",
   "metadata": {
    "lines_to_next_cell": 2
   },
   "outputs": [],
   "source": [
    "df = pd.DataFrame(\n",
    "    {\n",
    "        \"A\": [\"one\", \"one\", \"two\", \"three\"] * 6,\n",
    "        \"B\": [\"A\", \"B\", \"C\"] * 8,\n",
    "        \"C\": [\"foo\", \"foo\", \"foo\", \"bar\", \"bar\", \"bar\"] * 4,\n",
    "        \"D\": np.random.randn(24),\n",
    "        \"E\": np.random.randn(24),\n",
    "        \"F\": [datetime.datetime(2013, i, 1) for i in range(1, 13)]\n",
    "        + [datetime.datetime(2013, i, 15) for i in range(1, 13)],\n",
    "    }\n",
    ")\n",
    "df"
   ]
  },
  {
   "cell_type": "markdown",
   "id": "ed5dee5f",
   "metadata": {},
   "source": [
    "### Do aggregation\n",
    "\n",
    "* Get the pivot table easily. \n",
    "* Produce the table as the same result of doing ```groupby(['A','B','C'])``` and compute the ```mean``` of D, with different values of D shown in seperate columns.\n",
    "* Change to another ***aggfunc*** to finish the aggregation as you want."
   ]
  },
  {
   "cell_type": "code",
   "execution_count": null,
   "id": "c9288a91",
   "metadata": {
    "lines_to_next_cell": 2
   },
   "outputs": [],
   "source": [
    "pd.pivot_table(df, values=\"D\", index=[\"A\", \"B\"], columns=[\"C\"])"
   ]
  },
  {
   "cell_type": "code",
   "execution_count": null,
   "id": "f17a9266",
   "metadata": {
    "lines_to_next_cell": 2
   },
   "outputs": [],
   "source": [
    "pd.pivot_table(df, values=\"D\", index=[\"B\"], columns=[\"A\", \"C\"], aggfunc=np.sum)"
   ]
  },
  {
   "cell_type": "markdown",
   "id": "017e4aca",
   "metadata": {},
   "source": [
    "### Display all aggregation values\n",
    "\n",
    "* If the ***values*** column name is not given, the pivot table will include all of the data that can be aggregated in an additional level of hierarchy in the columns:"
   ]
  },
  {
   "cell_type": "code",
   "execution_count": null,
   "id": "ad236188",
   "metadata": {
    "lines_to_next_cell": 2
   },
   "outputs": [],
   "source": [
    "pd.pivot_table(df, index=[\"A\", \"B\"], columns=[\"C\"])"
   ]
  },
  {
   "cell_type": "markdown",
   "id": "fc5097a1",
   "metadata": {},
   "source": [
    "### Output\n",
    "\n",
    "* You can render a nice output of the table omitting the missing values by calling ```to_string```"
   ]
  },
  {
   "cell_type": "code",
   "execution_count": null,
   "id": "6616c0ba",
   "metadata": {},
   "outputs": [],
   "source": [
    "table = pd.pivot_table(df, index=[\"A\", \"B\"], columns=[\"C\"])\n",
    "print(table.to_string(na_rep=\"\"))"
   ]
  },
  {
   "cell_type": "markdown",
   "id": "01506bfe",
   "metadata": {},
   "source": [
    "## One row to many\n",
    "\n",
    "*Kunheng Li(kunhengl@umich.edu)*"
   ]
  },
  {
   "cell_type": "markdown",
   "id": "704a1567",
   "metadata": {},
   "source": [
    "The reason I choose this function is because last homework. Before the hint from teachers, I found some ways to transfrom one row to many rows. Therefore, I will introduce a function to deal with this type of data."
   ]
  },
  {
   "cell_type": "markdown",
   "id": "b5780730",
   "metadata": {},
   "source": [
    "First, let's see an example."
   ]
  },
  {
   "cell_type": "code",
   "execution_count": null,
   "id": "0ed8fcc0",
   "metadata": {},
   "outputs": [],
   "source": [
    "data = {\n",
    "    \"first name\":[\"kevin\",\"betty\",\"tony\"],\n",
    "    \"last name\":[\"li\",\"jin\",\"zhang\"],\n",
    "    \"courses\":[\"EECS484, STATS507\",\"STATS507, STATS500\",\"EECS402,EECS482,EECS491\"]   \n",
    "}\n",
    "df = pd.DataFrame(data)\n",
    "df = df.set_index([\"first name\", \"last name\"])[\"courses\"].str.split(\",\", expand=True)\\\n",
    "    .stack().reset_index(drop=True, level=-1).reset_index().rename(columns={0: \"courses\"})\n",
    "print(df)"
   ]
  },
  {
   "cell_type": "markdown",
   "id": "b310c5ae",
   "metadata": {},
   "source": [
    "This is the first method I want to introduce, stack() or unstack(), both are similar. \n",
    "Unstack() and stack() in DataFrame are to make itself to a Series which has secondary index.\n",
    "Unstack() is to transform its index to secondary index and its column to primary index, however, \n",
    "stack() is to transform its index to primary index and its column to secondary index."
   ]
  },
  {
   "cell_type": "markdown",
   "id": "bd38dffe",
   "metadata": {},
   "source": [
    "However, in Pandas 0.25 version, there is a new method in DataFrame called explode(). They have the result, let's see the example."
   ]
  },
  {
   "cell_type": "code",
   "execution_count": null,
   "id": "c4293676",
   "metadata": {
    "lines_to_next_cell": 2
   },
   "outputs": [],
   "source": [
    "df[\"courses\"] = df[\"courses\"].str.split(\",\")\n",
    "df = df.explode(\"courses\")\n",
    "print(df)"
   ]
  },
  {
   "cell_type": "markdown",
   "id": "c2d3b87e",
   "metadata": {},
   "source": [
    "## DataFrame.pct_change()\n",
    "*Dongming Yang*"
   ]
  },
  {
   "cell_type": "code",
   "execution_count": null,
   "id": "d3c9a77f",
   "metadata": {},
   "outputs": [],
   "source": [
    "# This function always be used to calculate the percentage change between the current and a prior element, and always be used to a time series     \n",
    "# The axis could choose the percentage change from row or columns\n",
    "# Creating the time-series index \n",
    "ind = pd.date_range('01/01/2000', periods = 6, freq ='W') \n",
    "  \n",
    "# Creating the dataframe  \n",
    "df = pd.DataFrame({\"A\":[14, 4, 5, 4, 1, 55], \n",
    "                   \"B\":[5, 2, 54, 3, 2, 32],  \n",
    "                   \"C\":[20, 20, 7, 21, 8, 5], \n",
    "                   \"D\":[14, 3, 6, 2, 6, 4]}, index = ind) \n",
    "  \n",
    "# find the percentage change with the previous row \n",
    "df.pct_change()\n",
    "\n",
    "# find the percentage change with precvious columns \n",
    "df.pct_change(axis=1)"
   ]
  },
  {
   "cell_type": "code",
   "execution_count": null,
   "id": "3a26e91f",
   "metadata": {},
   "outputs": [],
   "source": [
    "# periods means start to calculate the percentage change between the periods column or row and the beginning\n",
    "\n",
    "# find the specific percentage change with first row\n",
    "df.pct_change(periods=3)"
   ]
  },
  {
   "cell_type": "code",
   "execution_count": null,
   "id": "8b81a18d",
   "metadata": {},
   "outputs": [],
   "source": [
    "# fill_method means the way to handle NAs before computing percentage change by assigning a value to that NAs\n",
    "# importing pandas as pd \n",
    "import pandas as pd \n",
    "  \n",
    "# Creating the time-series index \n",
    "ind = pd.date_range('01/01/2000', periods = 6, freq ='W') \n",
    "  \n",
    "# Creating the dataframe  \n",
    "df = pd.DataFrame({\"A\":[14, 4, 5, 4, 1, 55], \n",
    "                   \"B\":[5, 2, None, 3, 2, 32],  \n",
    "                   \"C\":[20, 20, 7, 21, 8, None], \n",
    "                   \"D\":[14, None, 6, 2, 6, 4]}, index = ind) \n",
    "  \n",
    "# apply the pct_change() method \n",
    "# we use the forward fill method to \n",
    "# fill the missing values in the dataframe \n",
    "df.pct_change(fill_method ='ffill')\n",
    "\n",
    "# ## Contents\n",
    "# Add a bullet for each topic and link to the level 2 title header using \n",
    "# the exact title with spaces replaced by a dash. \n",
    "#"
   ]
  },
  {
   "cell_type": "markdown",
   "id": "14d68da7",
   "metadata": {},
   "source": [
    "## Working with missing data\n",
    "*Kailan Xu*"
   ]
  },
  {
   "cell_type": "markdown",
   "id": "b1006331",
   "metadata": {},
   "source": [
    "- Detecting missing data\n",
    "- Inserting missing data\n",
    "- Calculations with missing data\n",
    "- Cleaning / filling missing data\n",
    "- Dropping axis labels with missing data"
   ]
  },
  {
   "cell_type": "markdown",
   "id": "7a368083",
   "metadata": {},
   "source": [
    "### 1. Detecting missing data"
   ]
  },
  {
   "cell_type": "markdown",
   "id": "6f33bf47",
   "metadata": {},
   "source": [
    "As data comes in many shapes and forms, pandas aims to be flexible with regard to handling missing data. While NaN is the default missing value marker for reasons of computational speed and convenience, we need to be able to easily detect this value with data of different types: floating point, integer, boolean, and general object. In many cases, however, the Python None will arise and we wish to also consider that “missing” or “not available” or “NA”."
   ]
  },
  {
   "cell_type": "code",
   "execution_count": null,
   "id": "6beb998f",
   "metadata": {},
   "outputs": [],
   "source": [
    "import pandas as pd \n",
    "import numpy as np \n",
    "\n",
    "df = pd.DataFrame(\n",
    "    np.random.randn(5, 3),\n",
    "    index=[\"a\", \"c\", \"e\", \"f\", \"h\"],\n",
    "    columns=[\"one\", \"two\", \"three\"],\n",
    ")\n",
    "df2 = df.reindex([\"a\", \"b\", \"c\", \"d\", \"e\", \"f\", \"g\", \"h\"])\n",
    "df2"
   ]
  },
  {
   "cell_type": "markdown",
   "id": "b67dff32",
   "metadata": {},
   "source": [
    "To make detecting missing values easier (and across different array dtypes), pandas provides the `isna()` and `notna()` functions, which are also methods on Series and DataFrame objects:"
   ]
  },
  {
   "cell_type": "code",
   "execution_count": null,
   "id": "ea3a3821",
   "metadata": {},
   "outputs": [],
   "source": [
    "df2.isna()"
   ]
  },
  {
   "cell_type": "code",
   "execution_count": null,
   "id": "239a3932",
   "metadata": {},
   "outputs": [],
   "source": [
    "df2.notna()"
   ]
  },
  {
   "cell_type": "markdown",
   "id": "10460345",
   "metadata": {},
   "source": [
    "###  2. Inserting missing data"
   ]
  },
  {
   "cell_type": "markdown",
   "id": "b92f8a6f",
   "metadata": {},
   "source": [
    "You can insert missing values by simply assigning to containers. The actual missing value used will be chosen based on the dtype.\n",
    "For example, numeric containers will always use NaN regardless of the missing value type chosen:"
   ]
  },
  {
   "cell_type": "code",
   "execution_count": null,
   "id": "d25a9dcb",
   "metadata": {},
   "outputs": [],
   "source": [
    "s = pd.Series([1, 2, 3])\n",
    "s.loc[0] = None\n",
    "s"
   ]
  },
  {
   "cell_type": "markdown",
   "id": "15683216",
   "metadata": {},
   "source": [
    "Likewise, datetime containers will always use NaT.\n",
    "For object containers, pandas will use the value given:"
   ]
  },
  {
   "cell_type": "code",
   "execution_count": null,
   "id": "c375c077",
   "metadata": {},
   "outputs": [],
   "source": [
    "s = pd.Series([\"a\", \"b\", \"c\"])\n",
    "s.loc[0] = None\n",
    "s.loc[1] = np.nan\n",
    "s"
   ]
  },
  {
   "cell_type": "markdown",
   "id": "f6aec594",
   "metadata": {},
   "source": [
    "### 3. Calculations with missing data"
   ]
  },
  {
   "cell_type": "markdown",
   "id": "82c97429",
   "metadata": {},
   "source": [
    "- When summing data, NA (missing) values will be treated as zero.\n",
    "- If the data are all NA, the result will be 0.\n",
    "- Cumulative methods like `cumsum()` and `cumprod()` ignore NA values by default, but preserve them in the resulting arrays. To override this behaviour and include NA values, use `skipna=False`."
   ]
  },
  {
   "cell_type": "code",
   "execution_count": null,
   "id": "39cc5021",
   "metadata": {},
   "outputs": [],
   "source": [
    "df2"
   ]
  },
  {
   "cell_type": "code",
   "execution_count": null,
   "id": "61bce966",
   "metadata": {},
   "outputs": [],
   "source": [
    "df2[\"one\"].sum()"
   ]
  },
  {
   "cell_type": "code",
   "execution_count": null,
   "id": "19aa7eb6",
   "metadata": {},
   "outputs": [],
   "source": [
    "df2.mean(1)"
   ]
  },
  {
   "cell_type": "code",
   "execution_count": null,
   "id": "5252a58e",
   "metadata": {},
   "outputs": [],
   "source": [
    "df2.cumsum()"
   ]
  },
  {
   "cell_type": "code",
   "execution_count": null,
   "id": "db6b1739",
   "metadata": {},
   "outputs": [],
   "source": [
    "df2.cumsum(skipna=False)"
   ]
  },
  {
   "cell_type": "markdown",
   "id": "ebaefc7b",
   "metadata": {},
   "source": [
    "### 4. Cleaning / filling missing data"
   ]
  },
  {
   "cell_type": "markdown",
   "id": "8580e79c",
   "metadata": {},
   "source": [
    "pandas objects are equipped with various data manipulation methods for dealing with missing data.\n",
    "- `fillna()` can “fill in” NA values with non-NA data in a couple of ways, which we illustrate:"
   ]
  },
  {
   "cell_type": "code",
   "execution_count": null,
   "id": "61d71c1a",
   "metadata": {},
   "outputs": [],
   "source": [
    "df2.fillna(0)"
   ]
  },
  {
   "cell_type": "code",
   "execution_count": null,
   "id": "e8a76837",
   "metadata": {},
   "outputs": [],
   "source": [
    "df2[\"one\"].fillna(\"missing\")"
   ]
  },
  {
   "cell_type": "markdown",
   "id": "51a3cbcb",
   "metadata": {},
   "source": [
    "### 5.Dropping axis labels with missing data"
   ]
  },
  {
   "cell_type": "markdown",
   "id": "d7b72d0c",
   "metadata": {},
   "source": [
    "You may wish to simply exclude labels from a data set which refer to missing data. To do this, use `dropna()`:"
   ]
  },
  {
   "cell_type": "code",
   "execution_count": null,
   "id": "146a5a9e",
   "metadata": {
    "lines_to_next_cell": 2
   },
   "outputs": [],
   "source": [
    "df2.dropna(axis=0)"
   ]
  },
  {
   "cell_type": "markdown",
   "id": "593b6aed",
   "metadata": {},
   "source": [
    "# Title: pandas.DataFrame.cumsum\n",
    "- Name: Yixuan Feng\n",
    "- Email: fengyx@umich.edu"
   ]
  },
  {
   "cell_type": "markdown",
   "id": "145ce2dd",
   "metadata": {},
   "source": [
    "## pandas.DataFrame.cumsum\n",
    "- Cumsum is the cumulative function of pandas, used to return the cumulative values of columns or rows."
   ]
  },
  {
   "cell_type": "markdown",
   "id": "5b1a6d44",
   "metadata": {},
   "source": [
    "## Example 1 - Without Setting Parameters\n",
    "- This function will automatically return the cumulative value of all columns."
   ]
  },
  {
   "cell_type": "code",
   "execution_count": null,
   "id": "184b8466",
   "metadata": {},
   "outputs": [],
   "source": [
    "values_1 = np.random.randint(10, size=10) \n",
    "values_2 = np.random.randint(10, size=10) \n",
    "group = ['A', 'B', 'C', 'A', 'B', 'C', 'A', 'B', 'C', 'A'] \n",
    "df = pd.DataFrame({'group':group, 'value_1':values_1, 'value_2':values_2}) \n",
    "df"
   ]
  },
  {
   "cell_type": "code",
   "execution_count": null,
   "id": "dc5a7225",
   "metadata": {},
   "outputs": [],
   "source": [
    "df.cumsum()"
   ]
  },
  {
   "cell_type": "markdown",
   "id": "64cbce8c",
   "metadata": {},
   "source": [
    "## Example 2 - Setting Parameters\n",
    "- By setting the axis to 1, this function will return the cumulative value of all rows.\n",
    "- By combining with groupby() function, other columns (or rows) can be used as references for cumulative addition."
   ]
  },
  {
   "cell_type": "code",
   "execution_count": null,
   "id": "2fcf02cb",
   "metadata": {},
   "outputs": [],
   "source": [
    "df['cumsum_2'] = df[['group', 'value_2']].groupby('group').cumsum() \n",
    "df"
   ]
  },
  {
   "cell_type": "markdown",
   "id": "57157c71",
   "metadata": {},
   "source": [
    "[link](https://github.com/fyx1009/Stats507/blob/main/pandas_notes/pd_topic_fengyx.py)"
   ]
  },
  {
   "cell_type": "markdown",
   "id": "9c5f07be",
   "metadata": {},
   "source": [
    "## Stack and Unstack\n",
    "**Heather Johnston**\n",
    "\n",
    "**hajohns@umich.edu**\n",
    "\n",
    "*Stats 507, Pandas Topics, Fall 2021*\n",
    "\n",
    "### About stack and unstack\n",
    "* Stack and Unstack are similar to \"melt\" and \"pivot\" methods for transforming data\n",
    "* R users may be familiar with \"pivot_wider\" and \"pivot_longer\" (formerly \"spread\" and \"gather\")\n",
    "* Stack transforms column names to new index and values to column\n",
    "\n",
    "### Example: Stack\n",
    "* Consider the `example` DataFrame below to be measurements of some value taken on different days at different times.\n",
    "* It would be natural to want these to be \"gathered\" into long format, which we can do using `stack`"
   ]
  },
  {
   "cell_type": "code",
   "execution_count": null,
   "id": "ac80fd26",
   "metadata": {},
   "outputs": [],
   "source": [
    "example = pd.DataFrame({\"day\":[\"Monday\", \"Wednesday\", \"Friday\"],\n",
    "                        \"morning\":[4, 5, 6],\n",
    "                        \"afternoon\":[8, 9, 0]})\n",
    "example.set_index(\"day\", inplace=True)\n",
    "print(example)\n",
    "print(example.stack())"
   ]
  },
  {
   "cell_type": "markdown",
   "id": "9f019c5e",
   "metadata": {},
   "source": [
    "### Example: Unstack\n",
    "* Conversely, for displaying data, it's often handy to have it in a wider format\n",
    "* Unstack is especially convenient after using `groupby` on a dataframe"
   ]
  },
  {
   "cell_type": "code",
   "execution_count": null,
   "id": "70c339b4",
   "metadata": {
    "lines_to_next_cell": 2
   },
   "outputs": [],
   "source": [
    "rng = np.random.default_rng(100)\n",
    "long_data = pd.DataFrame({\"group\":[\"a\", \"a\", \"a\", \"a\", \"b\", \"b\", \"b\", \"b\"],\n",
    "                          \"program\":[\"x\", \"y\", \"x\", \"y\", \"x\", \"y\", \"x\", \"y\"],\n",
    "                         \"score\":rng.integers(0, 100, 8),\n",
    "                         \"value\":rng.integers(0, 20, 8)\n",
    "                         })\n",
    "long_data.groupby([\"group\", \"program\"]).mean()\n",
    "long_data.groupby([\"group\", \"program\"]).mean().unstack()"
   ]
  },
  {
   "cell_type": "markdown",
   "id": "0877ea99",
   "metadata": {},
   "source": [
    "## Pandas Query ##\n",
    "\n",
    "### pd. query ##\n",
    "\n",
    "###### Name: Anandkumar Patel\n",
    "###### Email: patelana@umich.edu\n",
    "###### Unique ID: patelana\n",
    "\n",
    "### Arguments and Output\n",
    "\n",
    "**Arguments** \n",
    "\n",
    "* expression (expr) \n",
    "* inplace (default = False) \n",
    "    * Do you want to operate directly on the dataframe or create new one\n",
    "* kwargs (keyword arguments)\n",
    "\n",
    "**Returns** \n",
    "* Dataframe from provided query\n",
    "\n",
    "## Why\n",
    "\n",
    "* Similar to an SQL query \n",
    "* Can help you filter data by querying\n",
    "* Returns a subset of the DataFrame\n",
    "* loc and iloc can be used to query either rows or columns\n",
    "\n",
    "## Query Syntax\n",
    "\n",
    "* yourdataframe.query(expression, inplace = True/False\n",
    "\n",
    "## Code Example"
   ]
  },
  {
   "cell_type": "code",
   "execution_count": null,
   "id": "0c200d1a",
   "metadata": {
    "lines_to_next_cell": 2
   },
   "outputs": [],
   "source": [
    "import pandas as pd \n",
    "import numpy as np"
   ]
  },
  {
   "cell_type": "code",
   "execution_count": null,
   "id": "7f6155ca",
   "metadata": {},
   "outputs": [],
   "source": [
    "import pandas as pd\n",
    "import numpy as np\n",
    "### Q0 code example"
   ]
  },
  {
   "cell_type": "markdown",
   "id": "cfcfb9e0",
   "metadata": {},
   "source": [
    "created from arrays or tuples"
   ]
  },
  {
   "cell_type": "code",
   "execution_count": null,
   "id": "c4f0cefa",
   "metadata": {},
   "outputs": [],
   "source": [
    "arrays = [[\"bar\", \"bar\", \"baz\", \"baz\", \"foo\", \"foo\", \"qux\", \"qux\"],\n",
    "          [\"one\", \"two\", \"one\", \"two\", \"one\", \"two\", \"one\", \"two\"]]\n",
    "tuples = list(zip(*arrays)) # if from arrays, this step is dropped\n",
    "index = pd.MultiIndex.from_tuples(tuples, names=[\"first\", \"second\"]) \n",
    "# if from arrays, use pd.MultiIndex.from_arrays()"
   ]
  },
  {
   "cell_type": "code",
   "execution_count": null,
   "id": "a0b26a3b",
   "metadata": {},
   "outputs": [],
   "source": [
    "df1 = pd.Series(np.random.randn(8), index=index)"
   ]
  },
  {
   "cell_type": "markdown",
   "id": "616245d1",
   "metadata": {},
   "source": [
    "created from product"
   ]
  },
  {
   "cell_type": "code",
   "execution_count": null,
   "id": "5b0fe6a0",
   "metadata": {},
   "outputs": [],
   "source": [
    "iterables = [[\"bar\", \"baz\", \"foo\", \"qux\"], [\"one\", \"two\"]]\n",
    "df2 = pd.MultiIndex.from_product(iterables, names=[\"first\", \"second\"])"
   ]
  },
  {
   "cell_type": "code",
   "execution_count": null,
   "id": "e3cfc7b9",
   "metadata": {},
   "outputs": [],
   "source": [
    "#created directly from dataframe\n",
    "df3 = pd.DataFrame([[\"bar\", \"one\"], [\"bar\", \"two\"], [\"foo\", \"one\"], [\"foo\", \"two\"]],\n",
    "                  columns=[\"first\", \"second\"])\n",
    "pd.MultiIndex.from_frame(df)"
   ]
  },
  {
   "cell_type": "markdown",
   "id": "3a1a33c9",
   "metadata": {},
   "source": [
    "Basic Operation and Reindex"
   ]
  },
  {
   "cell_type": "code",
   "execution_count": null,
   "id": "68d095a8",
   "metadata": {},
   "outputs": [],
   "source": [
    "df1 + df1[:2]\n",
    "df1 + df1[::2]"
   ]
  },
  {
   "cell_type": "code",
   "execution_count": null,
   "id": "a21dfea1",
   "metadata": {},
   "outputs": [],
   "source": [
    "df1.reindex(index[:3])\n",
    "df1.reindex([(\"foo\", \"two\"), (\"bar\", \"one\"), (\"qux\", \"one\"), (\"baz\", \"one\")])"
   ]
  },
  {
   "cell_type": "code",
   "execution_count": null,
   "id": "703d9041",
   "metadata": {
    "lines_to_next_cell": 2
   },
   "outputs": [],
   "source": [
    "#Advanced Indexing \n",
    "df1 = df1.T\n",
    "df1.loc[(\"bar\", \"two\")]"
   ]
  },
  {
   "cell_type": "code",
   "execution_count": null,
   "id": "42339ac4",
   "metadata": {},
   "outputs": [],
   "source": [
    "import pandas as pd\n",
    "df = pd.DataFrame({'A': range(1, 6),\n",
    "                   'B': range(10, 0, -2),\n",
    "                   'C C': range(10, 5, -1)})\n",
    "print(df)"
   ]
  },
  {
   "cell_type": "code",
   "execution_count": null,
   "id": "23f8c265",
   "metadata": {},
   "outputs": [],
   "source": [
    "print('Below is the results of the query')"
   ]
  },
  {
   "cell_type": "code",
   "execution_count": null,
   "id": "99934110",
   "metadata": {
    "lines_to_next_cell": 2
   },
   "outputs": [],
   "source": [
    "print(df.query('A > B'))"
   ]
  },
  {
   "cell_type": "markdown",
   "id": "eadbdec1",
   "metadata": {},
   "source": [
    "## Time Series\n",
    "**Name: Lu Qin**\n",
    "UM email: qinlu@umich.edu\n",
    "\n",
    "### Overview\n",
    " - Data times\n",
    " - Time Frequency\n",
    " - Time zone\n",
    "\n",
    "### Import"
   ]
  },
  {
   "cell_type": "code",
   "execution_count": null,
   "id": "7dfd1f39",
   "metadata": {
    "lines_to_next_cell": 2
   },
   "outputs": [],
   "source": [
    "import datetime\n",
    "import pandas as pd\n",
    "import numpy as np"
   ]
  },
  {
   "cell_type": "markdown",
   "id": "99ad6ec0",
   "metadata": {},
   "source": [
    "### Datetime\n",
    " - Parsing time series information from various sources and formats"
   ]
  },
  {
   "cell_type": "code",
   "execution_count": null,
   "id": "dcb292a2",
   "metadata": {},
   "outputs": [],
   "source": [
    "dti = pd.to_datetime(\n",
    "    [\"20/10/2021\", \n",
    "     np.datetime64(\"2021-10-20\"), \n",
    "     datetime.datetime(2021, 10, 20)]\n",
    ")"
   ]
  },
  {
   "cell_type": "code",
   "execution_count": null,
   "id": "aeb532df",
   "metadata": {
    "lines_to_next_cell": 2
   },
   "outputs": [],
   "source": [
    "dti"
   ]
  },
  {
   "cell_type": "markdown",
   "id": "1e45ddda",
   "metadata": {},
   "source": [
    "### Time frequency\n",
    "- Generate sequences of fixed-frequency dates and time spans\n",
    "- Resampling or converting a time series to a particular frequency"
   ]
  },
  {
   "cell_type": "markdown",
   "id": "628da9c3",
   "metadata": {},
   "source": [
    "#### Generate"
   ]
  },
  {
   "cell_type": "code",
   "execution_count": null,
   "id": "5dd5cb10",
   "metadata": {},
   "outputs": [],
   "source": [
    "dti = pd.date_range(\"2021-10-20\", periods=2, freq=\"H\")"
   ]
  },
  {
   "cell_type": "code",
   "execution_count": null,
   "id": "6b989c6c",
   "metadata": {
    "lines_to_next_cell": 2
   },
   "outputs": [],
   "source": [
    "dti"
   ]
  },
  {
   "cell_type": "markdown",
   "id": "5eab6b56",
   "metadata": {},
   "source": [
    "#### convert"
   ]
  },
  {
   "cell_type": "code",
   "execution_count": null,
   "id": "ffc17495",
   "metadata": {},
   "outputs": [],
   "source": [
    "idx = pd.date_range(\"2021-10-20\", periods=3, freq=\"H\")\n",
    "ts = pd.Series(range(len(idx)), index=idx)"
   ]
  },
  {
   "cell_type": "code",
   "execution_count": null,
   "id": "92961339",
   "metadata": {
    "lines_to_next_cell": 2
   },
   "outputs": [],
   "source": [
    "ts"
   ]
  },
  {
   "cell_type": "markdown",
   "id": "7c949059",
   "metadata": {},
   "source": [
    "#### resample"
   ]
  },
  {
   "cell_type": "code",
   "execution_count": null,
   "id": "766cc523",
   "metadata": {
    "lines_to_next_cell": 2
   },
   "outputs": [],
   "source": [
    "ts.resample(\"2H\").mean()"
   ]
  },
  {
   "cell_type": "markdown",
   "id": "feb4c454",
   "metadata": {},
   "source": [
    "### Timezone\n",
    " - Manipulating and converting date times with timezone information\n",
    " - `tz_localize()`\n",
    " - `tz_convert()`"
   ]
  },
  {
   "cell_type": "code",
   "execution_count": null,
   "id": "d3ced815",
   "metadata": {},
   "outputs": [],
   "source": [
    "dti = dti.tz_localize(\"UTC\")\n",
    "dti"
   ]
  },
  {
   "cell_type": "code",
   "execution_count": null,
   "id": "0aa4a8bf",
   "metadata": {
    "lines_to_next_cell": 2
   },
   "outputs": [],
   "source": [
    "dti.tz_convert(\"US/Pacific\")"
   ]
  },
  {
   "cell_type": "markdown",
   "id": "511deb47",
   "metadata": {},
   "source": [
    "## Window Functions ##\n",
    "**Name: Stephen Toner** \\\n",
    "UM email: srtoner@umich.edu"
   ]
  },
  {
   "cell_type": "code",
   "execution_count": null,
   "id": "2caa7aae",
   "metadata": {
    "lines_to_next_cell": 2
   },
   "outputs": [],
   "source": [
    "import pandas as pd\n",
    "import numpy as np\n",
    "import matplotlib.pyplot as plt\n",
    "import pandas_datareader as web"
   ]
  },
  {
   "cell_type": "markdown",
   "id": "ac7709ff",
   "metadata": {},
   "source": [
    "Of the many funcitons in Pandas, one which is particularly useful for time\n",
    "series analysis is the window function. It lets us apply some aggregation \n",
    "function over a specified lookback period on a rolling basis throughout the\n",
    "time series. This is particularly useful for financial analsyis of equity\n",
    "returns, so we will compute some financial metrics for Amazon stock using\n",
    "this techinique."
   ]
  },
  {
   "cell_type": "markdown",
   "id": "d82a51dd",
   "metadata": {},
   "source": [
    "Our first step is to import our data for Amazon (\"AMZN\") \n",
    "over a healthy time horizon:"
   ]
  },
  {
   "cell_type": "code",
   "execution_count": null,
   "id": "18e95bcf",
   "metadata": {},
   "outputs": [],
   "source": [
    "amzn_data = web.DataReader(\"AMZN\", \n",
    "                           data_source = 'yahoo', \n",
    "                           start = \"2016-10-01\", \n",
    "                           end = \"2021-10-01\")"
   ]
  },
  {
   "cell_type": "code",
   "execution_count": null,
   "id": "0c9d160d",
   "metadata": {
    "lines_to_next_cell": 2
   },
   "outputs": [],
   "source": [
    "amzn_data.head()"
   ]
  },
  {
   "cell_type": "markdown",
   "id": "afecb173",
   "metadata": {},
   "source": [
    "While the column labels are largely self-explanatory, two important notes\n",
    "should be made:\n",
    "* The adjusted close represents the closing price after all is said and done\n",
    "after the trading session ends; this may represent changes due to accounts \n",
    "being settled / netted against each other, or from adjustments to financial\n",
    "reporting statements.\n",
    "* One reason for our choice in AMZN stock rather than others is that AMZN\n",
    "has not had a stock split in the last 20 years; for this reason we do not\n",
    "need to concern ourselves with adjusting for the issuance of new shares like\n",
    "we would for TSLA, AAPL, or other companies with large\n",
    "market capitalization."
   ]
  },
  {
   "cell_type": "markdown",
   "id": "b623589c",
   "metadata": {},
   "source": [
    "Getting back to Pandas, we have three main functions that allow us to\n",
    "perform Window operations:\n",
    "* `df.shift()`: Not technically a window operation, but helpful for\n",
    "computing calculations with offsets in time series\n",
    "* `rolling`: For a given fixed lookback period, tells us the \n",
    "aggregation metric (mean, avg, std dev)\n",
    "* `expanding`: Similar to `rolling`, but the lookback period is not fixed. \n",
    "Helpful when we want to have a variable lookback period such as \"month to \n",
    "date\" returns"
   ]
  },
  {
   "cell_type": "markdown",
   "id": "9c0e54e6",
   "metadata": {},
   "source": [
    "Two metrics that are often of interest to investors are the returns of an\n",
    "asset and the volume of shares traded. Returns are either calculated on\n",
    "a simple basis:\n",
    "$$ R_s = P_1/P_0 -1$$\n",
    "or a log basis:\n",
    "$$ R_l = \\log (P_1 / P_2) $$\n",
    "Simple returns are more useful when aggregating returns across multiple \n",
    "assets, while Log returns are more flexible when looking at returns across \n",
    "time. As we are just looking at AMZN, we will calculate the log returns\n",
    "using the `shift` function:"
   ]
  },
  {
   "cell_type": "code",
   "execution_count": null,
   "id": "e0f2cc12",
   "metadata": {
    "lines_to_next_cell": 2
   },
   "outputs": [],
   "source": [
    "amzn_data[\"l_returns\"] = np.log(amzn_data[\"Adj Close\"]/\n",
    "                                amzn_data[\"Adj Close\"].shift(1))"
   ]
  },
  {
   "cell_type": "code",
   "execution_count": null,
   "id": "fca58d58",
   "metadata": {
    "lines_to_next_cell": 2
   },
   "outputs": [],
   "source": [
    "plt.title(\"Log Returns of AMZN\")\n",
    "plt.plot(amzn_data['l_returns'])"
   ]
  },
  {
   "cell_type": "markdown",
   "id": "cd5e398c",
   "metadata": {},
   "source": [
    "For the latter, we see that the\n",
    "volume of AMZN stock traded is quite noisy:"
   ]
  },
  {
   "cell_type": "code",
   "execution_count": null,
   "id": "49a58a74",
   "metadata": {
    "lines_to_next_cell": 2
   },
   "outputs": [],
   "source": [
    "plt.title(\"Daily Trading Volume of AMZN\")   \n",
    "plt.plot(amzn_data['Volume'])"
   ]
  },
  {
   "cell_type": "markdown",
   "id": "a99f447e",
   "metadata": {},
   "source": [
    "If we want to get a better picture of the trends, we can always take a\n",
    "moving average of the last 5 days (last full set of trading days):"
   ]
  },
  {
   "cell_type": "code",
   "execution_count": null,
   "id": "01f7651a",
   "metadata": {
    "lines_to_next_cell": 2
   },
   "outputs": [],
   "source": [
    "amzn_data[\"vol_5dma\"] = amzn_data[\"Volume\"].rolling(window = 5).mean()\n",
    "plt.title(\"Daily Trading Volume of AMZN\")   \n",
    "plt.plot(amzn_data['vol_5dma'])"
   ]
  },
  {
   "cell_type": "markdown",
   "id": "e6036313",
   "metadata": {},
   "source": [
    "When we apply this to a price metric, we can identify some technical patterns\n",
    "such as when the 15 or 50 day moving average crosses the 100 or 200 day\n",
    "moving average (known as the golden cross, by those who believe in it)."
   ]
  },
  {
   "cell_type": "code",
   "execution_count": null,
   "id": "551037b7",
   "metadata": {},
   "outputs": [],
   "source": [
    "amzn_data[\"ma_15\"] = amzn_data[\"Adj Close\"].rolling(window = 15).mean()\n",
    "amzn_data[\"ma_100\"] = amzn_data[\"Adj Close\"].rolling(window = 100).mean()"
   ]
  },
  {
   "cell_type": "code",
   "execution_count": null,
   "id": "b171f937",
   "metadata": {},
   "outputs": [],
   "source": [
    "fig1 = plt.figure()\n",
    "plt.plot(amzn_data[\"ma_15\"])\n",
    "plt.plot(amzn_data[\"ma_100\"])\n",
    "plt.title(\"15 Day MA vs. 100 Day MA\")"
   ]
  },
  {
   "cell_type": "markdown",
   "id": "a19740e0",
   "metadata": {},
   "source": [
    "We can then use the `shift()` method to identify which dates have \n",
    "golden crosses"
   ]
  },
  {
   "cell_type": "code",
   "execution_count": null,
   "id": "2df16067",
   "metadata": {},
   "outputs": [],
   "source": [
    "gc_days = (amzn_data.eval(\"ma_15 > ma_100\") & \n",
    "               amzn_data.shift(1).eval(\"ma_15 <= ma_100\"))"
   ]
  },
  {
   "cell_type": "code",
   "execution_count": null,
   "id": "964ea9fa",
   "metadata": {
    "lines_to_next_cell": 2
   },
   "outputs": [],
   "source": [
    "gc_prices = amzn_data[\"ma_15\"][gc_days]"
   ]
  },
  {
   "cell_type": "code",
   "execution_count": null,
   "id": "e0b4e1b4",
   "metadata": {},
   "outputs": [],
   "source": [
    "fig2 = plt.figure()\n",
    "plt.plot(amzn_data[\"Adj Close\"], color = \"black\")\n",
    "plt.scatter( x= gc_prices.index, \n",
    "                y = gc_prices[:],\n",
    "                marker = \"+\", \n",
    "                color = \"gold\" \n",
    "                )"
   ]
  },
  {
   "cell_type": "code",
   "execution_count": null,
   "id": "e595ce13",
   "metadata": {},
   "outputs": [],
   "source": [
    "plt.title(\"Golden Crosses & Adj Close\")"
   ]
  },
  {
   "cell_type": "markdown",
   "id": "58948fe4",
   "metadata": {},
   "source": [
    "The last feature that Pandas offers is a the `expanding` window function, \n",
    "which calculates a metric over a time frame that grows with each additional \n",
    "period. This is particularly useful for backtesting financial metrics\n",
    "as indicators of changes in equity prices: because one must be careful not\n",
    "to apply information from the future when performing backtesting, the \n",
    "`expanding` functionality helps ensure we only use information up until the \n",
    "given point in time. Below, we use the expanding function to plot cumulative\n",
    "return of AMZN over the time horizon."
   ]
  },
  {
   "cell_type": "code",
   "execution_count": null,
   "id": "0e7b33e6",
   "metadata": {},
   "outputs": [],
   "source": [
    "def calc_total_return(x):\n",
    "    \"\"\"    \n",
    "    Parameters\n",
    "    ----------\n",
    "    x : TYPE\n",
    "        DESCRIPTION.\n",
    "\n",
    "    Returns\n",
    "    -------\n",
    "    TYPE\n",
    "        DESCRIPTION.\n",
    "\n",
    "    \"\"\"\n",
    "    return np.log(x[-1] / x[0]) "
   ]
  },
  {
   "cell_type": "code",
   "execution_count": null,
   "id": "72ccd3b9",
   "metadata": {},
   "outputs": [],
   "source": [
    "amzn_data[\"Total Returns\"] = (amzn_data[\"Adj Close\"]\n",
    "                              .expanding()\n",
    "                              .apply(calc_total_return))"
   ]
  },
  {
   "cell_type": "code",
   "execution_count": null,
   "id": "86299819",
   "metadata": {
    "lines_to_next_cell": 2
   },
   "outputs": [],
   "source": [
    "fig3 = plt.figure()\n",
    "ax5 = fig3.add_subplot(111)\n",
    "ax5 = plt.plot(amzn_data[\"Total Returns\"])\n",
    "plt.title(\"Cumulative Log Returns for AMZN\")"
   ]
  },
  {
   "cell_type": "markdown",
   "id": "d1fc1d1f",
   "metadata": {},
   "source": [
    "* ###  Processing Time Data\n",
    "\n",
    "**Yurui Chang**\n",
    "\n",
    "#### Pandas.to_timedelta\n",
    "\n",
    "- To convert a recognized timedelta format / value into a Timedelta type\n",
    "- the unit of the arg\n",
    "  * 'W'\n",
    "  * 'D'/'days'/'day'\n",
    "  * ‘hours’ / ‘hour’ / ‘hr’ / ‘h’\n",
    "  * ‘m’ / ‘minute’ / ‘min’ / ‘minutes’ / ‘T’\n",
    "  * ‘S’ / ‘seconds’ / ‘sec’ / ‘second’\n",
    "  * ‘ms’ / ‘milliseconds’ / ‘millisecond’ / ‘milli’ / ‘millis’ / ‘L’\n",
    "  * ‘us’ / ‘microseconds’ / ‘microsecond’ / ‘micro’ / ‘micros’ / ‘U’\n",
    "  * ‘ns’ / ‘nanoseconds’ / ‘nano’ / ‘nanos’ / ‘nanosecond’ / ‘N’\n",
    "\n",
    "* Parsing a single string to a Timedelta\n",
    "* Parsing a list or array of strings\n",
    "* Converting numbers by specifying the unit keyword argument"
   ]
  },
  {
   "cell_type": "code",
   "execution_count": null,
   "id": "afc70ab7",
   "metadata": {},
   "outputs": [],
   "source": [
    "time1 = pd.to_timedelta('1 days 06:05:01.00003')\n",
    "time2 = pd.to_timedelta('15.5s')\n",
    "print([time1, time2])\n",
    "pd.to_timedelta(['1 days 06:05:01.00003', '15.5s', 'nan'])"
   ]
  },
  {
   "cell_type": "code",
   "execution_count": null,
   "id": "24ece284",
   "metadata": {
    "lines_to_next_cell": 2
   },
   "outputs": [],
   "source": [
    "pd.to_timedelta(np.arange(5), unit='d')"
   ]
  },
  {
   "cell_type": "markdown",
   "id": "fe69f846",
   "metadata": {},
   "source": [
    "#### pandas.to_datetime\n",
    "\n",
    "* To convert argument to datetime\n",
    "* Returns: datetime, return type dependending on input\n",
    "  * list-like: DatetimeIndex\n",
    "  * Series: Series of datetime64 dtype\n",
    "  * scalar: Timestamp\n",
    "* Assembling a datetime from multiple columns of a DataFrame\n",
    "* Converting Pandas Series to datetime w/ custom format\n",
    "* Converting Unix integer (days) to datetime\n",
    "* Convert integer (seconds) to datetime"
   ]
  },
  {
   "cell_type": "code",
   "execution_count": null,
   "id": "567f5f8e",
   "metadata": {},
   "outputs": [],
   "source": [
    "s = pd.Series(['date is 01199002',\n",
    "           'date is 02199015',\n",
    "           'date is 03199020',\n",
    "           'date is 09199204'])\n",
    "pd.to_datetime(s, format=\"date is %m%Y%d\")"
   ]
  },
  {
   "cell_type": "code",
   "execution_count": null,
   "id": "1f3ec8fa",
   "metadata": {
    "lines_to_next_cell": 2
   },
   "outputs": [],
   "source": [
    "time1 = pd.to_datetime(14554, unit='D', origin='unix')\n",
    "print(time1)\n",
    "time2 = pd.to_datetime(1600355888, unit='s', origin='unix')\n",
    "print(time2)"
   ]
  },
  {
   "cell_type": "markdown",
   "id": "6add8108",
   "metadata": {
    "lines_to_next_cell": 2
   },
   "source": [
    "# Title: Pandas Time Series Analysis\n",
    "## Name: Kenan Alkiek (kalkiek)"
   ]
  },
  {
   "cell_type": "code",
   "execution_count": null,
   "id": "7b9cab27",
   "metadata": {},
   "outputs": [],
   "source": [
    "from matplotlib import pyplot as plt"
   ]
  },
  {
   "cell_type": "code",
   "execution_count": null,
   "id": "104bf8ba",
   "metadata": {},
   "outputs": [],
   "source": [
    "# Read in the air quality dataset\n",
    "air_quality = pd.read_csv(\n",
    "    'https://raw.githubusercontent.com/pandas-dev/pandas/master/doc/data/air_quality_no2_long.csv')\n",
    "air_quality[\"datetime\"] = pd.to_datetime(air_quality[\"date.utc\"])"
   ]
  },
  {
   "cell_type": "code",
   "execution_count": null,
   "id": "8b9f56dc",
   "metadata": {},
   "outputs": [],
   "source": [
    "# One common method of dealing with time series data is to set the index equal to the data\n",
    "air_quality = air_quality.set_index('datetime')\n",
    "air_quality.head()"
   ]
  },
  {
   "cell_type": "code",
   "execution_count": null,
   "id": "e2ea15de",
   "metadata": {},
   "outputs": [],
   "source": [
    "# Plot the NO2 Over time for Paris france\n",
    "paris_air_quality = air_quality[(air_quality['city'] == 'Paris') & (air_quality['country'] == 'FR')]"
   ]
  },
  {
   "cell_type": "code",
   "execution_count": null,
   "id": "c5cc6493",
   "metadata": {},
   "outputs": [],
   "source": [
    "paris_air_quality.plot()\n",
    "plt.ylabel(\"$NO_2 (µg/m^3)$\")"
   ]
  },
  {
   "cell_type": "code",
   "execution_count": null,
   "id": "8b7cc829",
   "metadata": {},
   "outputs": [],
   "source": [
    "# Plot average NO2 by hour of the day\n",
    "fig, axs = plt.subplots(figsize=(12, 4))\n",
    "air_quality.groupby(\"date.utc\")[\"value\"].mean().plot(kind='bar', rot=0, ax=axs)\n",
    "plt.xlabel(\"Hour of the day\")\n",
    "plt.ylabel(\"$NO_2 (µg/m^3)$\")\n",
    "plt.show()"
   ]
  },
  {
   "cell_type": "code",
   "execution_count": null,
   "id": "25fc3655",
   "metadata": {},
   "outputs": [],
   "source": [
    "# Limit the data between 2 dates\n",
    "beg_of_june = paris_air_quality[\"2019-06-01\":\"2019-06-03\"]\n",
    "beg_of_june.plot()\n",
    "plt.ylabel(\"$NO_2 (µg/m^3)$\")"
   ]
  },
  {
   "cell_type": "code",
   "execution_count": null,
   "id": "96e8e11f",
   "metadata": {},
   "outputs": [],
   "source": [
    "# Resample the Data With a Different Frequency (and Aggregration)\n",
    "monthly_max = air_quality.resample(\"M\").max()\n",
    "print(monthly_max)"
   ]
  },
  {
   "cell_type": "code",
   "execution_count": null,
   "id": "2e0e9041",
   "metadata": {},
   "outputs": [],
   "source": [
    "# Ignore weekends and certain times\n",
    "rng = pd.date_range('20190501 09:00', '20190701 16:00', freq='30T')"
   ]
  },
  {
   "cell_type": "code",
   "execution_count": null,
   "id": "4bd3ebcb",
   "metadata": {},
   "outputs": [],
   "source": [
    "# Grab only certain times\n",
    "rng = rng.take(rng.indexer_between_time('09:30', '16:00'))"
   ]
  },
  {
   "cell_type": "code",
   "execution_count": null,
   "id": "81acd563",
   "metadata": {},
   "outputs": [],
   "source": [
    "# Remove weekends\n",
    "rng = rng[rng.weekday < 5]"
   ]
  },
  {
   "cell_type": "code",
   "execution_count": null,
   "id": "2b61f5ea",
   "metadata": {
    "lines_to_next_cell": 2
   },
   "outputs": [],
   "source": [
    "rng.to_series()"
   ]
  },
  {
   "cell_type": "markdown",
   "id": "f7f10d95",
   "metadata": {
    "lines_to_next_cell": 2
   },
   "source": [
    "## Pivot Table in pandas\n",
    "\n",
    "\n",
    "*Mingjia Chen* \n",
    "mingjia@umich.edu\n",
    "\n",
    "- A pivot table is a table format that allows data to be dynamically arranged and summarized in categories.\n",
    "- Pivot tables are flexible, allowing you to customize your analytical calculations and making it easy for users to understand the data.\n",
    "- Use the following example to illustrate how a pivot table works."
   ]
  },
  {
   "cell_type": "code",
   "execution_count": null,
   "id": "3a04c9e3",
   "metadata": {},
   "outputs": [],
   "source": [
    "import numpy as np"
   ]
  },
  {
   "cell_type": "code",
   "execution_count": null,
   "id": "74d1d78e",
   "metadata": {
    "lines_to_next_cell": 2
   },
   "outputs": [],
   "source": [
    "df = pd.DataFrame({\"A\": [1, 2, 3, 4, 5],\n",
    "                   \"B\": [0, 1, 0, 1, 0],\n",
    "                   \"C\": [1, 2, 2, 3, 3],\n",
    "                   \"D\": [2, 4, 5, 5, 6],\n",
    "                   \"E\": [2, 2, 4, 4, 6]})\n",
    "print(df)"
   ]
  },
  {
   "cell_type": "markdown",
   "id": "4d0e2c6b",
   "metadata": {},
   "source": [
    "## Index\n",
    "\n",
    "- The simplest pivot table must have a data frame and an index.\n",
    "- In addition, you can also have multiple indexes.\n",
    "- Try to swap the order of the two indexes, the data results are the same."
   ]
  },
  {
   "cell_type": "code",
   "execution_count": null,
   "id": "c866ff20",
   "metadata": {
    "lines_to_next_cell": 2
   },
   "outputs": [],
   "source": [
    "tab1 = pd.pivot_table(df,index=[\"A\"])\n",
    "tab2 = pd.pivot_table(df,index=[\"A\", \"B\"])\n",
    "tab3 = pd.pivot_table(df,index=[\"B\", \"A\"])\n",
    "print(tab1)\n",
    "print(tab2)\n",
    "print(tab3)"
   ]
  },
  {
   "cell_type": "markdown",
   "id": "1b3898c9",
   "metadata": {
    "lines_to_next_cell": 2
   },
   "source": [
    "## Values \n",
    "- Change the values parameter can filter the data for the desired calculation."
   ]
  },
  {
   "cell_type": "code",
   "execution_count": null,
   "id": "fa9c9dc4",
   "metadata": {
    "lines_to_next_cell": 2
   },
   "outputs": [],
   "source": [
    "pd.pivot_table(df,index=[\"B\", \"A\"], values=[\"C\", \"D\"])"
   ]
  },
  {
   "cell_type": "markdown",
   "id": "6bc6bcdd",
   "metadata": {
    "lines_to_next_cell": 2
   },
   "source": [
    "## Aggfunc\n",
    "\n",
    "- The aggfunc parameter sets the function that we perform when aggregating data.\n",
    "- When we do not set aggfunc, it defaults aggfunc='mean' to calculate the mean value.\n",
    "  - When we also want to get the sum of the data under indexes:"
   ]
  },
  {
   "cell_type": "code",
   "execution_count": null,
   "id": "d76cb7f5",
   "metadata": {
    "lines_to_next_cell": 2
   },
   "outputs": [],
   "source": [
    "pd.pivot_table(df,index=[\"B\", \"A\"], values=[\"C\", \"D\"], aggfunc=[np.sum,np.mean])"
   ]
  },
  {
   "cell_type": "markdown",
   "id": "788d66db",
   "metadata": {
    "lines_to_next_cell": 2
   },
   "source": [
    "## Columns\n",
    "\n",
    "- columns like index can set the column hierarchy field, it is not a required parameter, as an optional way to split the data.\n",
    "\n",
    "- fill_value fills empty values, margins=True for aggregation"
   ]
  },
  {
   "cell_type": "code",
   "execution_count": null,
   "id": "471a135e",
   "metadata": {
    "lines_to_next_cell": 2
   },
   "outputs": [],
   "source": [
    "pd.pivot_table(df,index=[\"B\"],columns=[\"E\"], values=[\"C\", \"D\"],\n",
    "               aggfunc=[np.sum], fill_value=0, margins=1)"
   ]
  },
  {
   "cell_type": "markdown",
   "id": "a1910dea",
   "metadata": {},
   "source": [
    "\n",
    "Ziyi Gao\n",
    "\n",
    "ziyigao@umich.edu\n",
    "\n",
    "## Multi-indexing\n",
    "\n",
    "- Aiming at sophisticated data analysis and manipulation, especially for working with higher dimensional data\n",
    "- Enabling one to store and manipulate data with an arbitrary number of dimensions in lower dimensional data structures\n",
    "\n",
    "## Creating a multi-indexing dataframe and Reconstructing\n",
    "\n",
    "- It can be created from:\n",
    "    - a list of arrays (using MultiIndex.from_arrays())\n",
    "    - an array of tuples (using MultiIndex.from_tuples())\n",
    "    - a crossed set of iterables (using MultiIndex.from_product())\n",
    "    - a DataFrame (using MultiIndex.from_frame())\n",
    "- The method get_level_values() will return a vector of the labels for each location at a particular level\n",
    "\n",
    "## Basic Indexing\n",
    "\n",
    "- Advantages of hierarchical indexing\n",
    "    - hierarchical indexing can select data by a “partial” label identifying a subgroup in the data\n",
    "- Defined Levels\n",
    "    - keeps all the defined levels of an index, even if they are not actually used\n",
    "    \n",
    "## Data Alignment and Using Reindex\n",
    "\n",
    "- Operations between differently-indexed objects having MultiIndex on the axes will work as you expect; data alignment will work the same as an Index of tuples\n",
    "- The reindex() method of Series/DataFrames can be called with another MultiIndex, or even a list or array of tuples:\n",
    "\n",
    "## Some Advanced Indexing\n",
    "\n",
    "Syntactically integrating MultiIndex in advanced indexing with .loc is a bit challenging\n",
    "\n",
    "- In general, MultiIndex keys take the form of tuples"
   ]
  },
  {
   "cell_type": "markdown",
   "id": "81466d31",
   "metadata": {},
   "source": [
    "## Missing Data in pandas\n",
    "\n",
    "#### Anuraag Ramesh: anuraagr@umich.edu\n",
    "\n",
    "- About\n",
    "- Calculations with missing data\n",
    "- Filling missing values\n",
    "- Interpolation\n",
    "- Replacing generic values"
   ]
  },
  {
   "cell_type": "code",
   "execution_count": null,
   "id": "befa02e5",
   "metadata": {},
   "outputs": [],
   "source": [
    "import numpy as np\n",
    "import pandas as pd\n",
    "import warnings\n",
    "warnings.filterwarnings(\"ignore\")\n",
    "from IPython.core.display import HTML,display\n",
    "import random\n",
    "import scipy.stats as sci\n",
    "#------------------------------------------------------------------------------"
   ]
  },
  {
   "cell_type": "markdown",
   "id": "aaad4e8d",
   "metadata": {},
   "source": [
    "## About\n",
    "\n",
    "Missing values are always present in datasets that are developed from the \n",
    "real world , and it is important to understand the functions and \n",
    "methods that are present to deal with them properly."
   ]
  },
  {
   "cell_type": "code",
   "execution_count": null,
   "id": "4cf5ca73",
   "metadata": {},
   "outputs": [],
   "source": [
    "df = pd.DataFrame({'Name' : ['A' , 'B', 'C', 'D', 'E'],\n",
    "                   'Score 1' :[90, 85, 86, 67, 45],\n",
    "                   'Score 2' :[None , 78, 89, 56, 99], \n",
    "                   'Score 3' :[80, None , None, 56, 82],\n",
    "                   'Score 4' : [68, 79, None , 26, 57]})"
   ]
  },
  {
   "cell_type": "code",
   "execution_count": null,
   "id": "8077e504",
   "metadata": {},
   "outputs": [],
   "source": [
    "df"
   ]
  },
  {
   "cell_type": "markdown",
   "id": "3f67dbd0",
   "metadata": {},
   "source": [
    "### Defining missing values"
   ]
  },
  {
   "cell_type": "markdown",
   "id": "14b20c70",
   "metadata": {},
   "source": [
    "In the dataset defined above, we can see that \n",
    "there are few \"NaN\" of missing values.  \n",
    "- The missing or not avialable value is defined using `np.nan`.\n",
    "- We can find the missing values in a dataset using `isna()`. \n",
    "The values that show 'True' are missing in the dataset\n",
    "- On the other hand, to find if a value is not null we use `notna()`"
   ]
  },
  {
   "cell_type": "code",
   "execution_count": null,
   "id": "4221aa12",
   "metadata": {},
   "outputs": [],
   "source": [
    "print(df.isna())\n",
    "print('\\n')\n",
    "print(df.notna())"
   ]
  },
  {
   "cell_type": "markdown",
   "id": "d766aef9",
   "metadata": {},
   "source": [
    "- We can also use `np.nan()` as a \n",
    "parameter to compare various values  \n",
    "- Using `isna()` to find the missing values in each column"
   ]
  },
  {
   "cell_type": "code",
   "execution_count": null,
   "id": "112f7759",
   "metadata": {},
   "outputs": [],
   "source": [
    "print(df['Score 1'].isna())\n",
    "print(df['Score 2'].isna())"
   ]
  },
  {
   "cell_type": "markdown",
   "id": "e0208514",
   "metadata": {},
   "source": [
    "## Calculations with missing data"
   ]
  },
  {
   "cell_type": "markdown",
   "id": "238d5dbe",
   "metadata": {},
   "source": [
    "There is missing values in our dataset. But \n",
    "there are several different ways we can \n",
    "handle this to perform calculations.\n",
    "\n",
    "Suppose, we want to calculate \n",
    "the average of scores for each person. \n",
    "We can use these three methods.\n",
    "- Skip the missing values\n",
    "- Drop the column with missing values\n",
    "- Fill in the missing values with some other value\n",
    "\n",
    "Note : \"NA'\" values are automatically excluded while using groupby"
   ]
  },
  {
   "cell_type": "code",
   "execution_count": null,
   "id": "79e1ca50",
   "metadata": {},
   "outputs": [],
   "source": [
    "# Skipping missing values\n",
    "print(df.mean(skipna = True, axis = 1))"
   ]
  },
  {
   "cell_type": "code",
   "execution_count": null,
   "id": "ab9d5aa4",
   "metadata": {},
   "outputs": [],
   "source": [
    "# Dropping columns or rows with missing values\n",
    "\n",
    "print(df.dropna(axis = 0)) #Row\n",
    "print(\"\\n\")\n",
    "print(df.dropna(axis = 1)) #Column"
   ]
  },
  {
   "cell_type": "markdown",
   "id": "75dcad90",
   "metadata": {},
   "source": [
    "## Filling missing values\n",
    "\n",
    "We can fill the missing values using different methods:\n",
    "\n",
    "- Filling missing values with 0\n",
    "- Filling missing values with a string - eg. NA\n",
    "- Filling missing with values with values \n",
    "appearing before or after\n",
    "- Filling values with mean of a column"
   ]
  },
  {
   "cell_type": "code",
   "execution_count": null,
   "id": "0cbdabb9",
   "metadata": {
    "lines_to_next_cell": 2
   },
   "outputs": [],
   "source": [
    "# Filling values with 0\n",
    "df.fillna(0)\n",
    "# Filling values with a string\n",
    "df.fillna(\"NA\")"
   ]
  },
  {
   "cell_type": "code",
   "execution_count": null,
   "id": "d045e361",
   "metadata": {},
   "outputs": [],
   "source": [
    "# Filling values with values appearing after the\n",
    "# missing values\n",
    "df.fillna(method = \"pad\")"
   ]
  },
  {
   "cell_type": "code",
   "execution_count": null,
   "id": "1861100f",
   "metadata": {},
   "outputs": [],
   "source": [
    "# Filling values with mean of individual columns\n",
    "print(df.fillna(df.mean()))"
   ]
  },
  {
   "cell_type": "markdown",
   "id": "7902fd3b",
   "metadata": {},
   "source": [
    "## Interpolation\n",
    "\n",
    "This is the process of performing linear interpolation \n",
    "to give an expectation assumption of missing values.\n",
    "\n",
    "There are several different methods of interpolation\n",
    "\n",
    "- linear : default method\n",
    "- quadratic\n",
    "- pchip\n",
    "- akima\n",
    "- spline\n",
    "- polynomial"
   ]
  },
  {
   "cell_type": "code",
   "execution_count": null,
   "id": "f2a80054",
   "metadata": {},
   "outputs": [],
   "source": [
    "df.interpolate()"
   ]
  },
  {
   "cell_type": "code",
   "execution_count": null,
   "id": "59c34234",
   "metadata": {},
   "outputs": [],
   "source": [
    "df.interpolate(method = \"akima\")"
   ]
  },
  {
   "cell_type": "markdown",
   "id": "10ec91a5",
   "metadata": {},
   "source": [
    "Below, we can see that the missing values in \n",
    "`Score 3` is replaced by 55 and 45 respectively"
   ]
  },
  {
   "cell_type": "code",
   "execution_count": null,
   "id": "89a3fea4",
   "metadata": {},
   "outputs": [],
   "source": [
    "df.interpolate(method = \"quadratic\")"
   ]
  },
  {
   "cell_type": "markdown",
   "id": "eeea3186",
   "metadata": {},
   "source": [
    "## Replacing generic values\n",
    "\n",
    "We can simply replace the NaN values from the outside,\n",
    "by using `.replace()`  \n",
    "\n",
    "Here, we can assume and replace the value with a random\n",
    "value with 75."
   ]
  },
  {
   "cell_type": "code",
   "execution_count": null,
   "id": "b6ad0734",
   "metadata": {},
   "outputs": [],
   "source": [
    "df.replace(np.nan, 75)"
   ]
  }
 ],
 "metadata": {
  "jupytext": {
   "cell_metadata_json": true,
   "encoding": "# -*- coding: utf-8 -*-",
   "formats": "py:light,ipynb",
   "notebook_metadata_filter": "markdown"
  },
  "kernelspec": {
   "display_name": "Python 3 (ipykernel)",
   "language": "python",
   "name": "python3"
  },
  "language_info": {
   "codemirror_mode": {
    "name": "ipython",
    "version": 3
   },
   "file_extension": ".py",
   "mimetype": "text/x-python",
   "name": "python",
   "nbconvert_exporter": "python",
   "pygments_lexer": "ipython3",
   "version": "3.9.7"
  }
 },
 "nbformat": 4,
 "nbformat_minor": 5
}
